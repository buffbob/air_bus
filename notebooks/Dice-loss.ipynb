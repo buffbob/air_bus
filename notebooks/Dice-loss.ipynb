{
 "cells": [
  {
   "cell_type": "code",
   "execution_count": 3,
   "metadata": {},
   "outputs": [],
   "source": [
    "import json, sys, random, os, warnings\n",
    "from PIL import Image\n",
    "import pathlib as pl\n",
    "from air_bus.airbus_utils import rle_decode, rle_encode, save_img, same_id\n",
    "from air_bus.decorate import profile\n",
    "import numpy as np\n",
    "np.set_printoptions(precision=3)\n",
    "import pandas as pd\n",
    "pd.set_option(\"display.max_rows\", 120)\n",
    "pd.set_option(\"display.max_columns\", 120)\n",
    "import seaborn as sns\n",
    "import matplotlib.pyplot as plt\n",
    "%matplotlib inline\n",
    "\n",
    "import tensorflow as tf\n",
    "from tensorflow.keras.preprocessing.image import ImageDataGenerator"
   ]
  },
  {
   "cell_type": "markdown",
   "metadata": {},
   "source": [
    "### from the Airbus Ship Detection Challenge evaluation page"
   ]
  },
  {
   "cell_type": "markdown",
   "metadata": {},
   "source": [
    "This competition is evaluated on the F2 Score at different intersection over union (IoU) thresholds. The IoU of a proposed set of object pixels and a set of true object pixels is calculated as:\n",
    "IoU(A,B)=A∩/BA∪B.\n",
    "\n",
    "\n",
    "The metric sweeps over a range of IoU thresholds, at each point calculating an F2 Score. The threshold values range from 0.5 to 0.95 with a step size of 0.05: (0.5, 0.55, 0.6, 0.65, 0.7, 0.75, 0.8, 0.85, 0.9, 0.95). In other words, at a threshold of 0.5, a predicted object is considered a \"hit\" if its intersection over union with a ground truth object is greater than 0.5.\n",
    "\n",
    "At each threshold value t\n",
    ", the F2 Score value is calculated based on the number of true positives (TP), false negatives (FN), and false positives (FP) resulting from comparing the predicted object to all ground truth objects. The following equation is equivalent to F2 Score when β is set to 2:\n",
    "$$\n",
    "F\\beta(t) = \\frac{(1 + \\beta^2) \\cdot TP(t)}{(1 + \\beta^2) \\cdot TP(t) + \\beta^2 \\cdot FN(t) + FP(t)}.\n",
    "AtruepositiveiscountedwhenasinglepredictedobjectmatchesagroundtruthobjectwithanIoUabovethethreshold.Afalsepositiveindicatesapredictedobjecthadnoassociatedgroundtruthobject.Afalsenegativeindicatesagroundtruthobjecthadnoassociatedpredictedobject.TheaverageF2ScoreofasingleimageisthencalculatedasthemeanoftheaboveF2ScorevaluesateachIoUthreshold:\n",
    "\\frac{1}{|thresholds|} \\sumt F_2(t).\n",
    "$$\n",
    "Lastly, the score returned by the competition metric is the mean taken over the individual average F2 Scores of each image in the test dataset.\n",
    "\n",
    "The metric used for this competition is defined as the mean average precision at different intersection over union (IoU) thresholds.\n",
    "\n",
    "This tells us there are a few different steps to getting the score reported on the leaderboard. For each image...\n",
    "\n",
    "    For each ship \"prediction\", calculate the Intersection of Union metric with each \"ground truth\" mask in the image.\n",
    "    Calculate whether this mask fits at a range of IoU thresholds.\n",
    "    At each threshold, calculate the precision across all your submitted masks.\n",
    "    Average the precision across thresholds.\n",
    "\n",
    "Across the dataset...\n",
    "\n",
    "    Calculate the mean of the average precision for each image.\n",
    "\n",
    "\n",
    "root_dir = \"/media/thistle/Passport/Kaggle_Data/airbus/updated_data\"\n",
    "train_files_dir = \"/media/thistle/Passport/Kaggle_Data/airbus/updated_data/Images/train/images\"\n",
    "test_files_dir = \"/media/thistle/Passport/Kaggle_Data/airbus/updated_data/Images/test/images\"\n",
    "\n",
    "train_masks_dir = \"/media/thistle/Passport/Kaggle_Data/airbus/updated_data/Masks/train/masks\"\n",
    "test_masks_dir = \"/media/thistle/Passport/Kaggle_Data/airbus/updated_data/Masks/test/masks\"\n",
    "\n",
    "\n",
    "train_files = os.listdir(train_files_dir)\n",
    "test_files = os.listdir(test_files_dir)\n",
    "len(train_files), len(test_files)"
   ]
  },
  {
   "cell_type": "code",
   "execution_count": 145,
   "metadata": {},
   "outputs": [],
   "source": [
    "testing_files = [(test_files[each], train_files[each]) for each in np.random.randint(1,4256, 5)]"
   ]
  },
  {
   "cell_type": "code",
   "execution_count": 147,
   "metadata": {},
   "outputs": [
    {
     "data": {
      "text/plain": [
       "[('bc225a509.jpg', '577988697.jpg'),\n",
       " ('0546baefb.jpg', '47fa16218.jpg'),\n",
       " ('5b38976bf.jpg', 'd0e1f65a3.jpg'),\n",
       " ('8ff2e334e.jpg', 'c8327dd2e.jpg'),\n",
       " ('2d71ff4fc.jpg', 'eb1886768.jpg')]"
      ]
     },
     "execution_count": 147,
     "metadata": {},
     "output_type": "execute_result"
    }
   ],
   "source": [
    "testing_files"
   ]
  },
  {
   "cell_type": "code",
   "execution_count": 57,
   "metadata": {},
   "outputs": [],
   "source": [
    "def load_image(the_dir, str_path):\n",
    "    # returns a np.array()\n",
    "    path = os.path.join(the_dir, str_path)\n",
    "    r = tf.io.read_file(path)\n",
    "    i = tf.io.decode_jpeg(r)\n",
    "    return i.numpy()\n",
    "\n",
    "# shifting masks\n",
    "def shift_right(arr, num_shift):\n",
    "    # remove right num cols\n",
    "    arr_temp = arr[:, :-num_shift]\n",
    "    shape = arr_temp.shape\n",
    "    to_add = np.zeros((shape[0],num_shift))\n",
    "    new_arr = np.concatenate((to_add, arr_temp), axis=1)\n",
    "    return np.squeeze(new_arr.astype(\"uint8\"))\n",
    "\n",
    "# shifting masks\n",
    "def shift_left(arr, num_shift):\n",
    "    # remove left num cols\n",
    "    arr_temp = arr[:, num_shift:]\n",
    "    shape = arr_temp.shape\n",
    "    to_add = np.zeros((shape[0],num_shift))\n",
    "    new_arr = np.concatenate((arr_temp, to_add), axis=1)\n",
    "    return np.squeeze(new_arr.astype(\"uint8\"))"
   ]
  },
  {
   "cell_type": "code",
   "execution_count": 148,
   "metadata": {},
   "outputs": [
    {
     "data": {
      "text/plain": [
       "<matplotlib.image.AxesImage at 0x7f4862ce8750>"
      ]
     },
     "execution_count": 148,
     "metadata": {},
     "output_type": "execute_result"
    },
    {
     "data": {
      "image/png": "[encoded data removed]",
      "text/plain": [
       "<Figure size 432x288 with 1 Axes>"
      ]
     },
     "metadata": {
      "needs_background": "light"
     },
     "output_type": "display_data"
    }
   ],
   "source": [
    "file1 = testing_files[3][0]\n",
    "img = load_image(test_masks_dir, file1)\n",
    "plt.imshow(np.squeeze(img))"
   ]
  },
  {
   "cell_type": "code",
   "execution_count": 149,
   "metadata": {},
   "outputs": [
    {
     "data": {
      "text/plain": [
       "4165"
      ]
     },
     "execution_count": 149,
     "metadata": {},
     "output_type": "execute_result"
    }
   ],
   "source": [
    "np.sum(img) # this is intersection op"
   ]
  },
  {
   "cell_type": "code",
   "execution_count": 158,
   "metadata": {},
   "outputs": [],
   "source": [
    "shifted_img = shift_right(np.squeeze(img),3)"
   ]
  },
  {
   "cell_type": "code",
   "execution_count": 159,
   "metadata": {},
   "outputs": [
    {
     "data": {
      "text/plain": [
       "<matplotlib.image.AxesImage at 0x7f4844682950>"
      ]
     },
     "execution_count": 159,
     "metadata": {},
     "output_type": "execute_result"
    },
    {
     "data": {
      "image/png": "[encoded data removed]",
      "text/plain": [
       "<Figure size 432x288 with 2 Axes>"
      ]
     },
     "metadata": {
      "needs_background": "light"
     },
     "output_type": "display_data"
    }
   ],
   "source": [
    "f, a = plt.subplots(1,2)\n",
    "a[0].imshow(np.squeeze(img))\n",
    "a[1].imshow(shifted_img)"
   ]
  },
  {
   "cell_type": "code",
   "execution_count": 160,
   "metadata": {},
   "outputs": [],
   "source": [
    "thresholds = [0.5, 0.55, 0.6, 0.65, 0.7, 0.75, 0.8, 0.85, 0.9, 0.95]\n",
    "iou = lambda num_i, num_u: num_i/num_u"
   ]
  },
  {
   "cell_type": "markdown",
   "metadata": {},
   "source": [
    "\n",
    "Intersection Over Union (for a single Prediction-GroundTruth comparison)\n",
    "\n",
    "    The IoU of a proposed set of object pixels and a set of true object pixels is calculated as:\n",
    "    IoU(A,B)=A∩B/A∪B\n",
    "\n",
    "Let's take one of the ship masks from our GroundTruth and Predicted volumes. Their intersections and unions look like this:\n"
   ]
  },
  {
   "cell_type": "code",
   "execution_count": 166,
   "metadata": {},
   "outputs": [],
   "source": [
    "file1 = testing_files[0][0]"
   ]
  },
  {
   "cell_type": "code",
   "execution_count": 169,
   "metadata": {},
   "outputs": [
    {
     "ename": "NameError",
     "evalue": "name 'get_image' is not defined",
     "output_type": "error",
     "traceback": [
      "\u001b[0;31m--------------------------------------------------------------------------\u001b[0m",
      "\u001b[0;31mNameError\u001b[0m                                Traceback (most recent call last)",
      "\u001b[0;32m<ipython-input-169-0af706622888>\u001b[0m in \u001b[0;36m<module>\u001b[0;34m\u001b[0m\n\u001b[0;32m----> 1\u001b[0;31m \u001b[0mgt\u001b[0m \u001b[0;34m=\u001b[0m \u001b[0mget_image\u001b[0m\u001b[0;34m(\u001b[0m\u001b[0mfile1\u001b[0m\u001b[0;34m)\u001b[0m\u001b[0;34m\u001b[0m\u001b[0;34m\u001b[0m\u001b[0m\n\u001b[0m",
      "\u001b[0;31mNameError\u001b[0m: name 'get_image' is not defined"
     ]
    }
   ],
   "source": [
    "gt = load_img(file1) # the ground truth\n",
    "pr = shift_right(gt, 1) # may shifted image\n",
    "intersection= np.logical_and(A,B)\n",
    "union = np.logical_or(A,B)\n",
    "\n",
    "num_inter_pix = np.sum(intersection)\n",
    "num_union_pix = np.sum()\n",
    "iou = np.sum(intersection)/np.sum(union)\n"
   ]
  },
  {
   "cell_type": "code",
   "execution_count": null,
   "metadata": {},
   "outputs": [],
   "source": [
    "f, a = plt.subplots()"
   ]
  },
  {
   "cell_type": "code",
   "execution_count": 161,
   "metadata": {},
   "outputs": [],
   "source": [
    "def get_iou_vector(A, B):\n",
    "    intersection= np.logical_and(A,B)\n",
    "    union = np.logical_or(A,B)\n",
    "    iou = np.sum(intersection)/np.sum(union)\n",
    "    does_pass = []\n",
    "    for thresh in thresholds:\n",
    "        does_pass.append(iou>thresh)\n",
    "    return does_pass"
   ]
  },
  {
   "cell_type": "code",
   "execution_count": 162,
   "metadata": {},
   "outputs": [],
   "source": [
    "z = get_iou_vector(np.squeeze(img), shifted_img) "
   ]
  },
  {
   "cell_type": "code",
   "execution_count": 163,
   "metadata": {},
   "outputs": [
    {
     "data": {
      "text/plain": [
       "[True, True, True, True, True, True, True, False, False, False]"
      ]
     },
     "execution_count": 163,
     "metadata": {},
     "output_type": "execute_result"
    }
   ],
   "source": [
    "z"
   ]
  },
  {
   "cell_type": "code",
   "execution_count": null,
   "metadata": {},
   "outputs": [],
   "source": []
  },
  {
   "cell_type": "code",
   "execution_count": null,
   "metadata": {},
   "outputs": [],
   "source": []
  },
  {
   "cell_type": "code",
   "execution_count": null,
   "metadata": {},
   "outputs": [],
   "source": []
  },
  {
   "cell_type": "code",
   "execution_count": 126,
   "metadata": {},
   "outputs": [],
   "source": [
    "s = pd.Series(name = 'Ground_vs_Pred')"
   ]
  },
  {
   "cell_type": "code",
   "execution_count": 127,
   "metadata": {},
   "outputs": [
    {
     "data": {
      "text/plain": [
       "Series([], Name: Fred, dtype: float64)"
      ]
     },
     "execution_count": 127,
     "metadata": {},
     "output_type": "execute_result"
    }
   ],
   "source": [
    "s"
   ]
  },
  {
   "cell_type": "code",
   "execution_count": null,
   "metadata": {},
   "outputs": [],
   "source": []
  },
  {
   "cell_type": "code",
   "execution_count": null,
   "metadata": {},
   "outputs": [],
   "source": []
  },
  {
   "cell_type": "code",
   "execution_count": null,
   "metadata": {},
   "outputs": [],
   "source": [
    "\n",
    "\n",
    "for i in "
   ]
  },
  {
   "cell_type": "code",
   "execution_count": null,
   "metadata": {},
   "outputs": [],
   "source": []
  },
  {
   "cell_type": "code",
   "execution_count": null,
   "metadata": {},
   "outputs": [],
   "source": []
  },
  {
   "cell_type": "code",
   "execution_count": 95,
   "metadata": {},
   "outputs": [
    {
     "data": {
      "text/plain": [
       "13234"
      ]
     },
     "execution_count": 95,
     "metadata": {},
     "output_type": "execute_result"
    }
   ],
   "source": [
    "z = np.squeeze(img) * shifted_img\n",
    "np.sum(z)"
   ]
  },
  {
   "cell_type": "code",
   "execution_count": 97,
   "metadata": {},
   "outputs": [
    {
     "data": {
      "text/plain": [
       "17346"
      ]
     },
     "execution_count": 97,
     "metadata": {},
     "output_type": "execute_result"
    }
   ],
   "source": [
    "z = img * img\n",
    "np.sum(z)"
   ]
  },
  {
   "cell_type": "code",
   "execution_count": 85,
   "metadata": {},
   "outputs": [
    {
     "data": {
      "text/plain": [
       "17342"
      ]
     },
     "execution_count": 85,
     "metadata": {},
     "output_type": "execute_result"
    }
   ],
   "source": [
    "np.sum(shifted_img)"
   ]
  },
  {
   "cell_type": "code",
   "execution_count": 77,
   "metadata": {},
   "outputs": [
    {
     "data": {
      "text/plain": [
       "(1, 0)"
      ]
     },
     "execution_count": 77,
     "metadata": {},
     "output_type": "execute_result"
    }
   ],
   "source": [
    "img.max(), shifted_img.min()"
   ]
  },
  {
   "cell_type": "code",
   "execution_count": 78,
   "metadata": {},
   "outputs": [],
   "source": [
    "i = img[:,-1:]"
   ]
  },
  {
   "cell_type": "code",
   "execution_count": 82,
   "metadata": {},
   "outputs": [
    {
     "data": {
      "text/plain": [
       "4"
      ]
     },
     "execution_count": 82,
     "metadata": {},
     "output_type": "execute_result"
    }
   ],
   "source": [
    "np.sum(np.squeeze(i))"
   ]
  },
  {
   "cell_type": "code",
   "execution_count": 32,
   "metadata": {},
   "outputs": [
    {
     "data": {
      "text/plain": [
       "array([[0., 0., 0., 0., 0.],\n",
       "       [0., 0., 0., 0., 0.],\n",
       "       [0., 0., 0., 1., 1.],\n",
       "       [0., 0., 0., 0., 0.],\n",
       "       [0., 0., 0., 0., 0.]])"
      ]
     },
     "execution_count": 32,
     "metadata": {},
     "output_type": "execute_result"
    }
   ],
   "source": [
    "zz = shift_right(z,1)\n",
    "zz"
   ]
  },
  {
   "cell_type": "code",
   "execution_count": 26,
   "metadata": {},
   "outputs": [
    {
     "data": {
      "text/plain": [
       "array([[0., 0., 0., 0., 0.],\n",
       "       [0., 0., 0., 0., 0.],\n",
       "       [1., 1., 0., 0., 0.],\n",
       "       [0., 0., 0., 0., 0.],\n",
       "       [0., 0., 0., 0., 0.]])"
      ]
     },
     "execution_count": 26,
     "metadata": {},
     "output_type": "execute_result"
    }
   ],
   "source": [
    "zz"
   ]
  },
  {
   "cell_type": "code",
   "execution_count": null,
   "metadata": {},
   "outputs": [],
   "source": []
  }
 ],
 "metadata": {
  "kernelspec": {
   "display_name": "Python 3",
   "language": "python",
   "name": "python3"
  },
  "language_info": {
   "codemirror_mode": {
    "name": "ipython",
    "version": 3
   },
   "file_extension": ".py",
   "mimetype": "text/x-python",
   "name": "python",
   "nbconvert_exporter": "python",
   "pygments_lexer": "ipython3",
   "version": "3.7.4"
  }
 },
 "nbformat": 4,
 "nbformat_minor": 4
}
