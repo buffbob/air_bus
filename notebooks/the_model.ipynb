{
 "cells": [
  {
   "cell_type": "code",
   "execution_count": 2,
   "metadata": {},
   "outputs": [],
   "source": [
    "import tensorflow as tf\n",
    "import tensorflow.keras as K"
   ]
  },
  {
   "cell_type": "code",
   "execution_count": 4,
   "metadata": {},
   "outputs": [],
   "source": [
    "from tensorflow.keras import models, layers"
   ]
  },
  {
   "cell_type": "code",
   "execution_count": 5,
   "metadata": {},
   "outputs": [],
   "source": [
    "def upsample_conv(filters, kernel_size,  strides, padding):\n",
    "    return layers.Conv2DTranspose(filters, kernel_size, strides=strides, padding=padding)\n",
    "\n",
    "def upsample_simple(filters, kernek_size, strides, padding):\n",
    "    return layers.UpSampling2D(strides)"
   ]
  },
  {
   "cell_type": "code",
   "execution_count": null,
   "metadata": {},
   "outputs": [],
   "source": [
    "if UPSAMPLE_MODE ==\"DECONV\":\n",
    "    upsample = upsample_conv\n",
    "else:\n",
    "    upsample = upsample_simple\n",
    "    \n",
    "input_img = layers.Input(t_x.shape[1:], name = 'RGB_Input')\n",
    "pp_in_layer = input_img\n",
    "\n",
    "if NET_SCALING is not None:\n",
    "    pp_in_layer = layers.AvgPool2D(NET_SCALING)(pp_in_layer)\n",
    "pp_in_layer = layers.GaussianNoise(GAUSSIAN_NOISE)(pp_in_layer)\n",
    "pp_in_layer = layers.BatchNormalization()(pp_in_layer)\n",
    "\n",
    "c1 = layers.Conv2D(8,(3,3), activation='relu', padding=\"same\")(pp_in_layer)\n",
    "c1 = layers.Conv2D(8,(3,3), activation='relu', padding=\"same\")(c1)\n",
    "p1 = layers.MaxPool2D((2,2))(c1)\n",
    "\n",
    "c2 = layers.Conv2D(16,(3,3), activation='relu', padding=\"same\")(p1)\n",
    "c2 = layers.Conv2D(16,(3,3), activation='relu', padding=\"same\")(c2)\n",
    "p2 = layers.MaxPool2D((2,2))(c2)\n",
    "\n",
    "\n",
    "c3 = layers.Conv2D(32,(3,3), activation='relu', padding=\"same\")(p2)\n",
    "c3 = layers.Conv2D(32,(3,3), activation='relu', padding=\"same\")(c3)\n",
    "p3 = layers.MaxPool2D((2,2))(c3)\n",
    "\n",
    "\n",
    "c4 = layers.Conv2D(64,(3,3), activation='relu', padding=\"same\")(p3)\n",
    "c4 = layers.Conv2D(64,(3,3), activation='relu', padding=\"same\")(c4)\n",
    "p4 = layers.MaxPool2D((2,2))(c4)\n",
    "\n",
    "c5 = layers.Conv2D(128,(3,3), activation='relu', padding=\"same\")(p4)\n",
    "c5 = layers.Conv2D(128,(3,3), activation='relu', padding=\"same\")(c5)\n",
    "\n",
    "u6\n",
    "\n"
   ]
  }
 ],
 "metadata": {
  "kernelspec": {
   "display_name": "Python 3",
   "language": "python",
   "name": "python3"
  },
  "language_info": {
   "codemirror_mode": {
    "name": "ipython",
    "version": 3
   },
   "file_extension": ".py",
   "mimetype": "text/x-python",
   "name": "python",
   "nbconvert_exporter": "python",
   "pygments_lexer": "ipython3",
   "version": "3.7.4"
  }
 },
 "nbformat": 4,
 "nbformat_minor": 4
}
