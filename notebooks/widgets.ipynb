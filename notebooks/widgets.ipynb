{
 "cells": [
  {
   "cell_type": "code",
   "execution_count": 1,
   "metadata": {},
   "outputs": [
    {
     "ename": "ModuleNotFoundError",
     "evalue": "No module named 'air_bus'",
     "output_type": "error",
     "traceback": [
      "\u001b[0;31m--------------------------------------------------------------------------\u001b[0m",
      "\u001b[0;31mModuleNotFoundError\u001b[0m                      Traceback (most recent call last)",
      "\u001b[0;32m<ipython-input-1-842e53e6f273>\u001b[0m in \u001b[0;36m<module>\u001b[0;34m\u001b[0m\n\u001b[1;32m      2\u001b[0m \u001b[0;32mfrom\u001b[0m \u001b[0mPIL\u001b[0m \u001b[0;32mimport\u001b[0m \u001b[0mImage\u001b[0m\u001b[0;34m\u001b[0m\u001b[0;34m\u001b[0m\u001b[0m\n\u001b[1;32m      3\u001b[0m \u001b[0;32mimport\u001b[0m \u001b[0mpathlib\u001b[0m \u001b[0;32mas\u001b[0m \u001b[0mpl\u001b[0m\u001b[0;34m\u001b[0m\u001b[0;34m\u001b[0m\u001b[0m\n\u001b[0;32m----> 4\u001b[0;31m \u001b[0;32mfrom\u001b[0m \u001b[0mair_bus\u001b[0m\u001b[0;34m.\u001b[0m\u001b[0mairbus_utils\u001b[0m \u001b[0;32mimport\u001b[0m \u001b[0mrle_decode\u001b[0m\u001b[0;34m,\u001b[0m \u001b[0mrle_encode\u001b[0m\u001b[0;34m,\u001b[0m \u001b[0msave_img\u001b[0m\u001b[0;34m,\u001b[0m \u001b[0msame_id\u001b[0m\u001b[0;34m\u001b[0m\u001b[0;34m\u001b[0m\u001b[0m\n\u001b[0m\u001b[1;32m      5\u001b[0m \u001b[0;32mimport\u001b[0m \u001b[0mnumpy\u001b[0m \u001b[0;32mas\u001b[0m \u001b[0mnp\u001b[0m\u001b[0;34m\u001b[0m\u001b[0;34m\u001b[0m\u001b[0m\n\u001b[1;32m      6\u001b[0m \u001b[0mnp\u001b[0m\u001b[0;34m.\u001b[0m\u001b[0mset_printoptions\u001b[0m\u001b[0;34m(\u001b[0m\u001b[0mprecision\u001b[0m\u001b[0;34m=\u001b[0m\u001b[0;36m3\u001b[0m\u001b[0;34m)\u001b[0m\u001b[0;34m\u001b[0m\u001b[0;34m\u001b[0m\u001b[0m\n",
      "\u001b[0;31mModuleNotFoundError\u001b[0m: No module named 'air_bus'"
     ]
    }
   ],
   "source": [
    "import json, sys, random, os, warnings\n",
    "from PIL import Image\n",
    "import pathlib as pl\n",
    "from air_bus.airbus_utils import rle_decode, rle_encode, save_img, same_id\n",
    "import numpy as np\n",
    "np.set_printoptions(precision=3)\n",
    "import pandas as pd\n",
    "pd.set_option(\"display.max_rows\", 120)\n",
    "pd.set_option(\"display.max_columns\", 120)\n",
    "import matplotlib.pyplot as plt\n",
    "import tensorflow as tf\n",
    "import pprint\n",
    "\n",
    "import ipywidgets as wid\n",
    "import ipyleaflet\n",
    "import IPython.display\n",
    "pp = pprint.PrettyPrinter(depth=4)\n",
    "\n",
    "%matplotlib inline"
   ]
  },
  {
   "cell_type": "code",
   "execution_count": 2,
   "metadata": {},
   "outputs": [],
   "source": [
    "masks_test = \"/media/thistle/Passport/Kaggle_Data/airbus/updated_data/Masks/test/masks\"\n",
    "masks_train = \"/media/thistle/Passport/Kaggle_Data/airbus/updated_data/Masks/train/masks\"\n",
    "\n",
    "images_test = \"/media/thistle/Passport/Kaggle_Data/airbus/updated_data/Images/test/images\"\n",
    "images_train = \"/media/thistle/Passport/Kaggle_Data/airbus/updated_data/Images/train/images\""
   ]
  },
  {
   "cell_type": "code",
   "execution_count": 3,
   "metadata": {},
   "outputs": [
    {
     "data": {
      "text/plain": [
       "(4256, 38300, 38300, 4256)"
      ]
     },
     "execution_count": 3,
     "metadata": {},
     "output_type": "execute_result"
    }
   ],
   "source": [
    "len(os.listdir(images_test)), len(os.listdir(images_train)), len(os.listdir(masks_train)), len(os.listdir(masks_test)), "
   ]
  },
  {
   "cell_type": "code",
   "execution_count": 4,
   "metadata": {},
   "outputs": [
    {
     "data": {
      "application/vnd.jupyter.widget-view+json": {
       "model_id": "323f163ec8844328ad2018a052c4e52b",
       "version_major": 2,
       "version_minor": 0
      },
      "text/html": [
       "<p>Failed to display Jupyter Widget of type <code>IntSlider</code>.</p>\n",
       "<p>\n",
       "  If you're reading this message in Jupyter Notebook or JupyterLab, it may mean\n",
       "  that the widgets JavaScript is still loading. If this message persists, it\n",
       "  likely means that the widgets JavaScript library is either not installed or\n",
       "  not enabled. See the <a href=\"https://ipywidgets.readthedocs.io/en/stable/user_install.html\">Jupyter\n",
       "  Widgets Documentation</a> for setup instructions.\n",
       "</p>\n",
       "<p>\n",
       "  If you're reading this message in another notebook frontend (for example, a static\n",
       "  rendering on GitHub or <a href=\"https://nbviewer.jupyter.org/\">NBViewer</a>),\n",
       "  it may mean that your frontend doesn't currently support widgets.\n",
       "</p>\n"
      ],
      "text/plain": [
       "IntSlider(value=0)"
      ]
     },
     "metadata": {},
     "output_type": "display_data"
    }
   ],
   "source": [
    "wid.IntSlider()"
   ]
  },
  {
   "cell_type": "code",
   "execution_count": 18,
   "metadata": {},
   "outputs": [
    {
     "data": {
      "application/vnd.jupyter.widget-view+json": {
       "model_id": "fa227015b24a480eb07624586892328a",
       "version_major": 2,
       "version_minor": 0
      },
      "text/plain": [
       "IntSlider(value=6, max=20, step=2)"
      ]
     },
     "metadata": {},
     "output_type": "display_data"
    }
   ],
   "source": [
    "from IPython.display import display\n",
    "w = wid.IntSlider(6,0,20,2)\n",
    "\n",
    "display(w)"
   ]
  },
  {
   "cell_type": "code",
   "execution_count": 19,
   "metadata": {},
   "outputs": [
    {
     "data": {
      "application/vnd.jupyter.widget-view+json": {
       "model_id": "fa227015b24a480eb07624586892328a",
       "version_major": 2,
       "version_minor": 0
      },
      "text/plain": [
       "IntSlider(value=6, max=20, step=2)"
      ]
     },
     "metadata": {},
     "output_type": "display_data"
    }
   ],
   "source": [
    "display(w)"
   ]
  },
  {
   "cell_type": "code",
   "execution_count": 12,
   "metadata": {},
   "outputs": [],
   "source": [
    "w.close()"
   ]
  },
  {
   "cell_type": "code",
   "execution_count": 20,
   "metadata": {},
   "outputs": [
    {
     "data": {
      "text/plain": [
       "14"
      ]
     },
     "execution_count": 20,
     "metadata": {},
     "output_type": "execute_result"
    }
   ],
   "source": [
    "w.value"
   ]
  },
  {
   "cell_type": "code",
   "execution_count": 22,
   "metadata": {},
   "outputs": [],
   "source": [
    "w.value = 200"
   ]
  },
  {
   "cell_type": "code",
   "execution_count": 24,
   "metadata": {},
   "outputs": [
    {
     "data": {
      "text/plain": [
       "['_dom_classes',\n",
       " '_model_module',\n",
       " '_model_module_version',\n",
       " '_model_name',\n",
       " '_view_count',\n",
       " '_view_module',\n",
       " '_view_module_version',\n",
       " '_view_name',\n",
       " 'continuous_update',\n",
       " 'description',\n",
       " 'description_tooltip',\n",
       " 'disabled',\n",
       " 'layout',\n",
       " 'max',\n",
       " 'min',\n",
       " 'orientation',\n",
       " 'readout',\n",
       " 'readout_format',\n",
       " 'step',\n",
       " 'style',\n",
       " 'value']"
      ]
     },
     "execution_count": 24,
     "metadata": {},
     "output_type": "execute_result"
    }
   ],
   "source": [
    "w.keys\n"
   ]
  },
  {
   "cell_type": "code",
   "execution_count": 25,
   "metadata": {
    "collapsed": true,
    "jupyter": {
     "outputs_hidden": true
    }
   },
   "outputs": [
    {
     "data": {
      "text/plain": [
       "['Accordion',\n",
       " 'AppLayout',\n",
       " 'Audio',\n",
       " 'BoundedFloatText',\n",
       " 'BoundedIntText',\n",
       " 'Box',\n",
       " 'Button',\n",
       " 'ButtonStyle',\n",
       " 'CallbackDispatcher',\n",
       " 'Checkbox',\n",
       " 'Color',\n",
       " 'ColorPicker',\n",
       " 'Combobox',\n",
       " 'Controller',\n",
       " 'CoreWidget',\n",
       " 'DOMWidget',\n",
       " 'DatePicker',\n",
       " 'Datetime',\n",
       " 'Dropdown',\n",
       " 'FileUpload',\n",
       " 'FloatLogSlider',\n",
       " 'FloatProgress',\n",
       " 'FloatRangeSlider',\n",
       " 'FloatSlider',\n",
       " 'FloatText',\n",
       " 'GridBox',\n",
       " 'GridspecLayout',\n",
       " 'HBox',\n",
       " 'HTML',\n",
       " 'HTMLMath',\n",
       " 'Image',\n",
       " 'IntProgress',\n",
       " 'IntRangeSlider',\n",
       " 'IntSlider',\n",
       " 'IntText',\n",
       " 'Label',\n",
       " 'Layout',\n",
       " 'NumberFormat',\n",
       " 'Output',\n",
       " 'Password',\n",
       " 'Play',\n",
       " 'RadioButtons',\n",
       " 'Select',\n",
       " 'SelectMultiple',\n",
       " 'SelectionRangeSlider',\n",
       " 'SelectionSlider',\n",
       " 'SliderStyle',\n",
       " 'Style',\n",
       " 'Tab',\n",
       " 'Text',\n",
       " 'Textarea',\n",
       " 'ToggleButton',\n",
       " 'ToggleButtons',\n",
       " 'ToggleButtonsStyle',\n",
       " 'TwoByTwoLayout',\n",
       " 'VBox',\n",
       " 'Valid',\n",
       " 'ValueWidget',\n",
       " 'Video',\n",
       " 'Widget',\n",
       " '__builtins__',\n",
       " '__cached__',\n",
       " '__doc__',\n",
       " '__file__',\n",
       " '__jupyter_widgets_base_version__',\n",
       " '__jupyter_widgets_controls_version__',\n",
       " '__loader__',\n",
       " '__name__',\n",
       " '__package__',\n",
       " '__path__',\n",
       " '__protocol_version__',\n",
       " '__spec__',\n",
       " '__version__',\n",
       " '_handle_ipython',\n",
       " '_version',\n",
       " 'dlink',\n",
       " 'docutils',\n",
       " 'domwidget',\n",
       " 'fixed',\n",
       " 'get_ipython',\n",
       " 'handle_kernel',\n",
       " 'interact',\n",
       " 'interact_manual',\n",
       " 'interaction',\n",
       " 'interactive',\n",
       " 'interactive_output',\n",
       " 'jsdlink',\n",
       " 'jslink',\n",
       " 'link',\n",
       " 'load_ipython_extension',\n",
       " 'os',\n",
       " 'register',\n",
       " 'register_comm_target',\n",
       " 'trait_types',\n",
       " 'util',\n",
       " 'valuewidget',\n",
       " 'version_info',\n",
       " 'widget',\n",
       " 'widget_bool',\n",
       " 'widget_box',\n",
       " 'widget_button',\n",
       " 'widget_color',\n",
       " 'widget_controller',\n",
       " 'widget_core',\n",
       " 'widget_date',\n",
       " 'widget_description',\n",
       " 'widget_float',\n",
       " 'widget_int',\n",
       " 'widget_layout',\n",
       " 'widget_link',\n",
       " 'widget_media',\n",
       " 'widget_output',\n",
       " 'widget_selection',\n",
       " 'widget_selectioncontainer',\n",
       " 'widget_serialization',\n",
       " 'widget_string',\n",
       " 'widget_style',\n",
       " 'widget_templates',\n",
       " 'widget_upload',\n",
       " 'widgets']"
      ]
     },
     "execution_count": 25,
     "metadata": {},
     "output_type": "execute_result"
    }
   ],
   "source": [
    "dir(wid)"
   ]
  },
  {
   "cell_type": "code",
   "execution_count": 26,
   "metadata": {},
   "outputs": [
    {
     "data": {
      "application/vnd.jupyter.widget-view+json": {
       "model_id": "2617acab929b45cea046a95ffa36d130",
       "version_major": 2,
       "version_minor": 0
      },
      "text/plain": [
       "FloatText(value=0.0)"
      ]
     },
     "metadata": {},
     "output_type": "display_data"
    },
    {
     "data": {
      "application/vnd.jupyter.widget-view+json": {
       "model_id": "4a305f26cf2347238dadf791ddc163ed",
       "version_major": 2,
       "version_minor": 0
      },
      "text/plain": [
       "FloatSlider(value=0.0)"
      ]
     },
     "metadata": {},
     "output_type": "display_data"
    }
   ],
   "source": [
    "a = wid.FloatText()\n",
    "b = wid.FloatSlider()\n",
    "display(a,b)"
   ]
  },
  {
   "cell_type": "code",
   "execution_count": 27,
   "metadata": {},
   "outputs": [],
   "source": [
    "mylink = wid.jslink((a,\"value\"), (b, \"value\"))"
   ]
  },
  {
   "cell_type": "code",
   "execution_count": 30,
   "metadata": {},
   "outputs": [],
   "source": [
    "z = wid.IntProgress(\n",
    "    value=7,\n",
    "    min=0,\n",
    "    max=10,\n",
    "    step=1,\n",
    "    description='Loading:',\n",
    "    bar_style='', # 'success', 'info', 'warning', 'danger' or ''\n",
    "    orientation='horizontal')"
   ]
  },
  {
   "cell_type": "code",
   "execution_count": 36,
   "metadata": {},
   "outputs": [],
   "source": [
    "z.value=9"
   ]
  },
  {
   "cell_type": "code",
   "execution_count": 35,
   "metadata": {},
   "outputs": [
    {
     "data": {
      "application/vnd.jupyter.widget-view+json": {
       "model_id": "7cf621a981d04ba5bc92baa09a204c8e",
       "version_major": 2,
       "version_minor": 0
      },
      "text/plain": [
       "IntProgress(value=2, description='Loading:', max=10)"
      ]
     },
     "metadata": {},
     "output_type": "display_data"
    }
   ],
   "source": [
    "z"
   ]
  },
  {
   "cell_type": "code",
   "execution_count": 37,
   "metadata": {},
   "outputs": [
    {
     "data": {
      "application/vnd.jupyter.widget-view+json": {
       "model_id": "9b919b38bf4d4e67b9c3bc64d0e3e034",
       "version_major": 2,
       "version_minor": 0
      },
      "text/plain": [
       "FloatRangeSlider(value=(5.0, 7.5), continuous_update=False, description='Test:', max=10.0, readout_format='.1f…"
      ]
     },
     "metadata": {},
     "output_type": "display_data"
    }
   ],
   "source": [
    "wid.FloatRangeSlider(\n",
    "    value=[5, 7.5],\n",
    "    min=0,\n",
    "    max=10.0,\n",
    "    step=0.1,\n",
    "    description='Test:',\n",
    "    disabled=False,\n",
    "    continuous_update=False,\n",
    "    orientation='horizontal',\n",
    "    readout=True,\n",
    "    readout_format='.1f',\n",
    ")\n",
    "\n"
   ]
  },
  {
   "cell_type": "code",
   "execution_count": 40,
   "metadata": {},
   "outputs": [],
   "source": [
    "z = wid.Dropdown(\n",
    "    options=['1', '2', '3'],\n",
    "    value='2',\n",
    "    description='Number:',\n",
    "    disabled=False,\n",
    "\n",
    ")"
   ]
  },
  {
   "cell_type": "code",
   "execution_count": 43,
   "metadata": {},
   "outputs": [],
   "source": [
    "z.value = \"3\""
   ]
  },
  {
   "cell_type": "code",
   "execution_count": 44,
   "metadata": {},
   "outputs": [
    {
     "data": {
      "application/vnd.jupyter.widget-view+json": {
       "model_id": "f9520bd6e550422fb14a16e13a42804d",
       "version_major": 2,
       "version_minor": 0
      },
      "text/plain": [
       "Dropdown(description='Number:', index=2, options=('1', '2', '3'), value='3')"
      ]
     },
     "metadata": {},
     "output_type": "display_data"
    }
   ],
   "source": [
    "z"
   ]
  },
  {
   "cell_type": "code",
   "execution_count": 9,
   "metadata": {},
   "outputs": [
    {
     "data": {
      "text/plain": [
       "'814a88694.jpg'"
      ]
     },
     "execution_count": 9,
     "metadata": {},
     "output_type": "execute_result"
    }
   ],
   "source": [
    "train_names = os.listdir(images_train)\n",
    "a_file = train_names[333]\n",
    "a_file"
   ]
  },
  {
   "cell_type": "code",
   "execution_count": 7,
   "metadata": {},
   "outputs": [],
   "source": [
    "def load_image(the_dir, str_path):\n",
    "    # returns a np.array()\n",
    "    path = os.path.join(the_dir, str_path)\n",
    "    r = tf.io.read_file(path)\n",
    "    i = tf.io.decode_jpeg(r)\n",
    "    return i.numpy()"
   ]
  },
  {
   "cell_type": "code",
   "execution_count": 48,
   "metadata": {},
   "outputs": [],
   "source": []
  },
  {
   "cell_type": "code",
   "execution_count": 53,
   "metadata": {},
   "outputs": [
    {
     "data": {
      "application/vnd.jupyter.widget-view+json": {
       "model_id": "569c62956beb46b1a67fda7af96c7fc2",
       "version_major": 2,
       "version_minor": 0
      },
      "text/plain": [
       "HBox(children=(Play(value=50, description='Press play'), IntSlider(value=0)))"
      ]
     },
     "metadata": {},
     "output_type": "display_data"
    }
   ],
   "source": [
    "\n",
    "play = wid.Play(\n",
    "#     interval=10,\n",
    "    value=50,\n",
    "    min=0,\n",
    "    max=100,\n",
    "    step=1,\n",
    "    description=\"Press play\",\n",
    "    disabled=False\n",
    ")\n",
    "slider = wid.IntSlider()\n",
    "wid.jslink((play, 'value'), (slider, 'value'))\n",
    "wid.HBox([play, slider])\n",
    "\n"
   ]
  },
  {
   "cell_type": "code",
   "execution_count": 63,
   "metadata": {},
   "outputs": [],
   "source": [
    "from IPython.display import YouTubeVideo"
   ]
  },
  {
   "cell_type": "code",
   "execution_count": null,
   "metadata": {},
   "outputs": [],
   "source": []
  },
  {
   "cell_type": "code",
   "execution_count": 10,
   "metadata": {},
   "outputs": [],
   "source": [
    "#Create a slider widget to add both Landsat 8 and PlanetScope 4B SR imagery\n",
    "map1 = ipyleaflet.Map(\n",
    "    center=(29.2963,-90.3446), zoom=12,\n",
    "    layout={'height':'500px'},\n",
    ")\n",
    "img1 = load_image(images_train, a_file)\n",
    "mask1 = load_image(masks_train, a_file)"
   ]
  },
  {
   "cell_type": "code",
   "execution_count": 11,
   "metadata": {},
   "outputs": [
    {
     "data": {
      "application/vnd.jupyter.widget-view+json": {
       "model_id": "bb4329c2c25f429f90eed13f2887c66d",
       "version_major": 2,
       "version_minor": 0
      },
      "text/html": [
       "<p>Failed to display Jupyter Widget of type <code>Map</code>.</p>\n",
       "<p>\n",
       "  If you're reading this message in Jupyter Notebook or JupyterLab, it may mean\n",
       "  that the widgets JavaScript is still loading. If this message persists, it\n",
       "  likely means that the widgets JavaScript library is either not installed or\n",
       "  not enabled. See the <a href=\"https://ipywidgets.readthedocs.io/en/stable/user_install.html\">Jupyter\n",
       "  Widgets Documentation</a> for setup instructions.\n",
       "</p>\n",
       "<p>\n",
       "  If you're reading this message in another notebook frontend (for example, a static\n",
       "  rendering on GitHub or <a href=\"https://nbviewer.jupyter.org/\">NBViewer</a>),\n",
       "  it may mean that your frontend doesn't currently support widgets.\n",
       "</p>\n"
      ],
      "text/plain": [
       "Map(basemap={'url': 'https://{s}.tile.openstreetmap.org/{z}/{x}/{y}.png', 'max_zoom': 19, 'attribution': 'Map data (c) <a href=\"https://openstreetmap.org\">OpenStreetMap</a> contributors'}, center=[29.2963, -90.3446], controls=(ZoomControl(options=['position', 'zoom_in_text', 'zoom_in_title', 'zoom_out_text', 'zoom_out_title']), AttributionControl(options=['position', 'prefix'], position='bottomright'), SplitMapControl(left_layer=TileLayer(options=['attribution', 'detect_retina', 'max_native_zoom', 'max_zoom', 'min_native_zoom', 'min_zoom', 'no_wrap', 'tile_size'], url='/media/thistle/Passport/Kaggle_Data/airbus/updated_data/Masks/train/masks/814a88694.jpg'), options=['position'], right_layer=TileLayer(options=['attribution', 'detect_retina', 'max_native_zoom', 'max_zoom', 'min_native_zoom', 'min_zoom', 'no_wrap', 'tile_size'], url='/media/thistle/Passport/Kaggle_Data/airbus/updated_data/Images/train/images/814a88694.jpg'))), default_style=MapStyle(), dragging_style=MapStyle(cursor='move'), layers=(TileLayer(base=True, max_zoom=19, min_zoom=1, options=['attribution', 'detect_retina', 'max_native_zoom', 'max_zoom', 'min_native_zoom', 'min_zoom', 'no_wrap', 'tile_size']),), layout=Layout(height='500px'), options=['basemap', 'bounce_at_zoom_limits', 'box_zoom', 'center', 'close_popup_on_click', 'double_click_zoom', 'dragging', 'fullscreen', 'inertia', 'inertia_deceleration', 'inertia_max_speed', 'interpolation', 'keyboard', 'keyboard_pan_offset', 'keyboard_zoom_offset', 'max_zoom', 'min_zoom', 'scroll_wheel_zoom', 'tap', 'tap_tolerance', 'touch_zoom', 'world_copy_jump', 'zoom', 'zoom_animation_threshold', 'zoom_start'], style=MapStyle())"
      ]
     },
     "metadata": {},
     "output_type": "display_data"
    }
   ],
   "source": [
    "#Definte mask for not water\n",
    "\n",
    "left = ipyleaflet.TileLayer(url=os.path.join(masks_train, a_file))\n",
    "right=ipyleaflet.TileLayer(url=os.path.join(images_train, a_file))\n",
    "control = ipyleaflet.SplitMapControl(left_layer=left, right_layer=right)\n",
    "map1.add_control(control)\n",
    "map1\n"
   ]
  },
  {
   "cell_type": "code",
   "execution_count": 60,
   "metadata": {},
   "outputs": [
    {
     "data": {
      "application/vnd.jupyter.widget-view+json": {
       "model_id": "3237e46b5d0244d885f997591e9676e9",
       "version_major": 2,
       "version_minor": 0
      },
      "text/plain": [
       "Output(layout=Layout(border='1px solid black'))"
      ]
     },
     "metadata": {},
     "output_type": "display_data"
    }
   ],
   "source": [
    "out = wid.Output(layout={'border': '1px solid black'})\n",
    "out\n"
   ]
  },
  {
   "cell_type": "code",
   "execution_count": 61,
   "metadata": {},
   "outputs": [],
   "source": [
    "with out: \n",
    "    for i in range(5):\n",
    "        print(f\"{i}: helloworld\")\n",
    "        "
   ]
  },
  {
   "cell_type": "code",
   "execution_count": null,
   "metadata": {},
   "outputs": [],
   "source": [
    "ytl = \"https://www.youtube.com/watch?v=_5QLQqKpta8\""
   ]
  },
  {
   "cell_type": "code",
   "execution_count": 65,
   "metadata": {},
   "outputs": [],
   "source": [
    "with out:\n",
    "    display(YouTubeVideo(\"_5QLQqKpta8\"))"
   ]
  },
  {
   "cell_type": "code",
   "execution_count": 67,
   "metadata": {},
   "outputs": [],
   "source": [
    "with out:\n",
    "    display(wid.IntSlider())"
   ]
  },
  {
   "cell_type": "code",
   "execution_count": null,
   "metadata": {},
   "outputs": [],
   "source": []
  },
  {
   "cell_type": "code",
   "execution_count": 62,
   "metadata": {},
   "outputs": [],
   "source": [
    "with out:\n",
    "    print(\"boogers\")"
   ]
  },
  {
   "cell_type": "code",
   "execution_count": 68,
   "metadata": {},
   "outputs": [],
   "source": [
    "out.clear_output()"
   ]
  },
  {
   "cell_type": "code",
   "execution_count": 72,
   "metadata": {},
   "outputs": [
    {
     "data": {
      "application/vnd.jupyter.widget-view+json": {
       "model_id": "5c96df360bd74b44ad277a3578634b57",
       "version_major": 2,
       "version_minor": 0
      },
      "text/plain": [
       "Map(basemap={'url': 'https://{s}.tile.openstreetmap.org/{z}/{x}/{y}.png', 'max_zoom': 19, 'attribution': 'Map …"
      ]
     },
     "metadata": {},
     "output_type": "display_data"
    }
   ],
   "source": [
    "from ipyleaflet import Map, Marker\n",
    "\n",
    "center = (52.204793, 360.121558)\n",
    "\n",
    "m = Map(center=center, zoom=15)\n",
    "\n",
    "marker = Marker(location=center, draggable=True)\n",
    "m.add_layer(marker);\n",
    "\n",
    "display(m)"
   ]
  },
  {
   "cell_type": "code",
   "execution_count": 70,
   "metadata": {
    "collapsed": true,
    "jupyter": {
     "outputs_hidden": true
    }
   },
   "outputs": [
    {
     "name": "stdout",
     "output_type": "stream",
     "text": [
      "# packages in environment at /home/thistle/anaconda3/envs/tf:\n",
      "#\n",
      "# Name                    Version                   Build  Channel\n",
      "_libgcc_mutex             0.1                        main  \n",
      "absl-py                   0.8.0                    pypi_0    pypi\n",
      "air-bus                   0.0.post0.dev1+g3964a08           dev_0    <develop>\n",
      "astor                     0.8.0                    pypi_0    pypi\n",
      "attrs                     19.1.0                   py37_1  \n",
      "backcall                  0.1.0                    py37_0  \n",
      "blas                      1.0                         mkl  \n",
      "bleach                    3.1.0                    py37_0  \n",
      "branca                    0.3.1                      py_0    conda-forge\n",
      "ca-certificates           2019.9.11            hecc5488_0    conda-forge\n",
      "category-encoders         2.0.0                    pypi_0    pypi\n",
      "certifi                   2019.9.11                py37_0    conda-forge\n",
      "cycler                    0.10.0                   pypi_0    pypi\n",
      "dbus                      1.13.6               h746ee38_0  \n",
      "decorator                 4.4.0                    py37_1  \n",
      "defusedxml                0.6.0                      py_0  \n",
      "entrypoints               0.3                      py37_0  \n",
      "expat                     2.2.6                he6710b0_0  \n",
      "fontconfig                2.13.0               h9420a91_0  \n",
      "freetype                  2.9.1                h8a8886c_1  \n",
      "gast                      0.3.2                    pypi_0    pypi\n",
      "glib                      2.56.2               hd408876_0  \n",
      "gmp                       6.1.2                h6c8ec71_1  \n",
      "google-pasta              0.1.7                    pypi_0    pypi\n",
      "grpcio                    1.23.0                   pypi_0    pypi\n",
      "gst-plugins-base          1.14.0               hbbd80ab_1  \n",
      "gstreamer                 1.14.0               hb453b48_1  \n",
      "h5py                      2.10.0                   pypi_0    pypi\n",
      "icu                       58.2                 h9c2bf20_1  \n",
      "imageio                   2.5.0                    pypi_0    pypi\n",
      "intel-openmp              2019.4                      243  \n",
      "ipykernel                 5.1.2            py37h39e3cac_0  \n",
      "ipyleaflet                0.11.2                   py37_0    conda-forge\n",
      "ipython                   7.8.0            py37h39e3cac_0  \n",
      "ipython_genutils          0.2.0                    py37_0  \n",
      "ipywidgets                7.5.1                      py_0    conda-forge\n",
      "jedi                      0.15.1                   py37_0  \n",
      "jinja2                    2.10.1                   py37_0  \n",
      "joblib                    0.13.2                   pypi_0    pypi\n",
      "jpeg                      9b                   h024ee3a_2  \n",
      "json5                     0.8.5                      py_0  \n",
      "jsonschema                3.0.2                    py37_0  \n",
      "jupyter_client            5.3.1                      py_0  \n",
      "jupyter_core              4.5.0                      py_0  \n",
      "jupyterlab                1.1.3              pyhf63ae98_0  \n",
      "jupyterlab_server         1.0.0                      py_1  \n",
      "keras-applications        1.0.8                    pypi_0    pypi\n",
      "keras-preprocessing       1.1.0                    pypi_0    pypi\n",
      "kiwisolver                1.1.0            py37he6710b0_0  \n",
      "libedit                   3.1.20181209         hc058e9b_0  \n",
      "libffi                    3.2.1                hd88cf55_4  \n",
      "libgcc-ng                 9.1.0                hdf63c60_0  \n",
      "libgfortran-ng            7.3.0                hdf63c60_0  \n",
      "libpng                    1.6.37               hbc83047_0  \n",
      "libsodium                 1.0.16               h1bed415_0  \n",
      "libstdcxx-ng              9.1.0                hdf63c60_0  \n",
      "libuuid                   1.0.3                h1bed415_2  \n",
      "libxcb                    1.13                 h1bed415_1  \n",
      "libxml2                   2.9.9                hea5a465_1  \n",
      "markdown                  3.1.1                    pypi_0    pypi\n",
      "markupsafe                1.1.1            py37h7b6447c_0  \n",
      "matplotlib                3.1.1                    pypi_0    pypi\n",
      "mistune                   0.8.4            py37h7b6447c_0  \n",
      "mkl                       2019.4                      243  \n",
      "mkl-service               2.3.0            py37he904b0f_0  \n",
      "mkl_fft                   1.0.14           py37ha843d7b_0  \n",
      "mkl_random                1.0.2            py37hd81dba3_0  \n",
      "nbconvert                 5.5.0                      py_0  \n",
      "nbformat                  4.4.0                    py37_0  \n",
      "ncurses                   6.1                  he6710b0_1  \n",
      "networkx                  2.3                      pypi_0    pypi\n",
      "nodejs                    11.14.0              he1b5a44_1    conda-forge\n",
      "notebook                  6.0.1                    py37_0  \n",
      "numpy                     1.16.5           py37h7e9f1db_0  \n",
      "numpy-base                1.16.5           py37hde5b4d6_0  \n",
      "opencv-python             4.1.1.26                 pypi_0    pypi\n",
      "openssl                   1.1.1c               h516909a_0    conda-forge\n",
      "opt-einsum                3.0.1                    pypi_0    pypi\n",
      "pandas                    0.25.1           py37he6710b0_0  \n",
      "pandoc                    2.2.3.2                       0  \n",
      "pandocfilters             1.4.2                    py37_1  \n",
      "parso                     0.5.1                      py_0  \n",
      "patsy                     0.5.1                    py37_0  \n",
      "pcre                      8.43                 he6710b0_0  \n",
      "pexpect                   4.7.0                    py37_0  \n",
      "pickleshare               0.7.5                    py37_0  \n",
      "pillow                    6.1.0                    pypi_0    pypi\n",
      "pip                       19.2.3                   pypi_0    pypi\n",
      "practice                  0.0.post0.dev1+gba4831f           dev_0    <develop>\n",
      "prometheus_client         0.7.1                      py_0  \n",
      "prompt_toolkit            2.0.9                    py37_0  \n",
      "protobuf                  3.9.1                    pypi_0    pypi\n",
      "ptyprocess                0.6.0                    py37_0  \n",
      "pygments                  2.4.2                      py_0  \n",
      "pyparsing                 2.4.2                      py_0  \n",
      "pyqt                      5.9.2            py37h05f1152_2  \n",
      "pyrsistent                0.14.11          py37h7b6447c_0  \n",
      "pyscaffold                3.2.2                      py_0    conda-forge\n",
      "python                    3.7.4                h265db76_1  \n",
      "python-dateutil           2.8.0                    py37_0  \n",
      "pytz                      2019.2                     py_0  \n",
      "pywavelets                1.0.3                    pypi_0    pypi\n",
      "pyzmq                     18.1.0           py37he6710b0_0  \n",
      "qt                        5.9.7                h5867ecd_1  \n",
      "readline                  7.0                  h7b6447c_5  \n",
      "remote-sensing            0.0.post0.dev1+gd79396c           dev_0    <develop>\n",
      "scikit-image              0.15.0                   pypi_0    pypi\n",
      "scikit-learn              0.21.3                   pypi_0    pypi\n",
      "scipy                     1.3.1            py37h7c811a0_0  \n",
      "seaborn                   0.9.0                    py37_0  \n",
      "send2trash                1.5.0                    py37_0  \n",
      "setuptools                41.0.1                   py37_0  \n",
      "sip                       4.19.8           py37hf484d3e_0  \n",
      "six                       1.12.0                   py37_0  \n",
      "sqlite                    3.29.0               h7b6447c_0  \n",
      "statsmodels               0.10.1           py37hdd07704_0  \n",
      "tb-nightly                1.15.0a20190806          pypi_0    pypi\n",
      "tensorflow                2.0.0rc1                 pypi_0    pypi\n",
      "termcolor                 1.1.0                    pypi_0    pypi\n",
      "terminado                 0.8.2                    py37_0  \n",
      "testpath                  0.4.2                    py37_0  \n",
      "tf-estimator-nightly      1.14.0.dev2019080601          pypi_0    pypi\n",
      "tk                        8.6.8                hbc83047_0  \n",
      "tornado                   6.0.3            py37h7b6447c_0  \n",
      "traitlets                 4.3.2                    py37_0  \n",
      "traittypes                0.2.1                      py_1    conda-forge\n",
      "wcwidth                   0.1.7                    py37_0  \n",
      "webencodings              0.5.1                    py37_1  \n",
      "werkzeug                  0.15.6                   pypi_0    pypi\n",
      "wheel                     0.33.4                   py37_0  \n",
      "widgetsnbextension        3.5.1                    py37_0    conda-forge\n",
      "wrapt                     1.11.2                   pypi_0    pypi\n",
      "xarray                    0.13.0                     py_0    conda-forge\n",
      "xz                        5.2.4                h14c3975_4  \n",
      "zeromq                    4.3.1                he6710b0_3  \n",
      "zlib                      1.2.11               h7b6447c_3  \n"
     ]
    }
   ],
   "source": [
    "!conda list\n"
   ]
  },
  {
   "cell_type": "code",
   "execution_count": 71,
   "metadata": {},
   "outputs": [
    {
     "name": "stdout",
     "output_type": "stream",
     "text": []
    },
    {
     "name": "stdout",
     "output_type": "stream",
     "text": []
    },
    {
     "name": "stdout",
     "output_type": "stream",
     "text": [
      "Building jupyterlab assets (build:prod:minimize)\n"
     ]
    }
   ],
   "source": [
    "!jupyter labextension install @jupyter-widgets/jupyterlab-manager jupyter-leaflet"
   ]
  },
  {
   "cell_type": "code",
   "execution_count": 73,
   "metadata": {},
   "outputs": [
    {
     "name": "stdout",
     "output_type": "stream",
     "text": [
      "\n",
      "CondaValueError: invalid package specification: ipywidgets=7.0!\n",
      "\n",
      "\n",
      "Note: you may need to restart the kernel to use updated packages.\n"
     ]
    }
   ],
   "source": [
    "conda install ipywidgets=7.0!"
   ]
  },
  {
   "cell_type": "code",
   "execution_count": null,
   "metadata": {
    "collapsed": true,
    "jupyter": {
     "outputs_hidden": true
    }
   },
   "outputs": [
    {
     "name": "stdout",
     "output_type": "stream",
     "text": [
      "Collecting package metadata (repodata.json): done\n",
      "Solving environment: done\n",
      "\n",
      "## Package Plan ##\n",
      "\n",
      "  environment location: /home/thistle/anaconda3/envs/tf\n",
      "\n",
      "  removed specs:\n",
      "    - ipywidgets\n",
      "\n",
      "\n",
      "The following packages will be downloaded:\n",
      "\n",
      "    package                    |            build\n",
      "    ---------------------------|-----------------\n",
      "    jupyter_client-5.3.3       |           py37_1         132 KB  conda-forge\n",
      "    ------------------------------------------------------------\n",
      "                                           Total:         132 KB\n",
      "\n",
      "The following NEW packages will be INSTALLED:\n",
      "\n",
      "  gettext            conda-forge/linux-64::gettext-0.19.8.1-hc5be6a0_1002\n",
      "  libiconv           conda-forge/linux-64::libiconv-1.15-h516909a_1005\n",
      "  matplotlib-base    conda-forge/linux-64::matplotlib-base-3.1.1-py37he7580a8_1\n",
      "  pthread-stubs      conda-forge/linux-64::pthread-stubs-0.4-h14c3975_1001\n",
      "  xorg-libxau        conda-forge/linux-64::xorg-libxau-1.0.9-h14c3975_0\n",
      "  xorg-libxdmcp      conda-forge/linux-64::xorg-libxdmcp-1.1.3-h516909a_0\n",
      "\n",
      "The following packages will be REMOVED:\n",
      "\n",
      "  branca-0.3.1-py_0\n",
      "  gmp-6.1.2-h6c8ec71_1\n",
      "  ipyleaflet-0.11.2-py37_0\n",
      "  ipywidgets-7.5.1-py_0\n",
      "  traittypes-0.2.1-py_1\n",
      "  widgetsnbextension-3.5.1-py37_0\n",
      "  xarray-0.13.0-py_0\n",
      "\n",
      "The following packages will be UPDATED:\n",
      "\n",
      "  cycler             pkgs/main/linux-64::cycler-0.10.0-py3~ --> conda-forge/noarch::cycler-0.10.0-py_1\n",
      "  entrypoints             pkgs/main::entrypoints-0.3-py37_0 --> conda-forge::entrypoints-0.3-py37_1000\n",
      "  fontconfig         pkgs/main::fontconfig-2.13.0-h9420a91~ --> conda-forge::fontconfig-2.13.1-h86ecdb6_1001\n",
      "  freetype             pkgs/main::freetype-2.9.1-h8a8886c_1 --> conda-forge::freetype-2.10.0-he983fc9_1\n",
      "  glib                    pkgs/main::glib-2.56.2-hd408876_0 --> conda-forge::glib-2.58.3-h6f030ca_1002\n",
      "  gst-plugins-base   pkgs/main::gst-plugins-base-1.14.0-hb~ --> conda-forge::gst-plugins-base-1.14.5-h0935bb2_0\n",
      "  gstreamer          pkgs/main::gstreamer-1.14.0-hb453b48_1 --> conda-forge::gstreamer-1.14.5-h36ae1b5_0\n",
      "  icu                        pkgs/main::icu-58.2-h9c2bf20_1 --> conda-forge::icu-64.2-he1b5a44_1\n",
      "  ipython_genutils   pkgs/main/linux-64::ipython_genutils-~ --> conda-forge/noarch::ipython_genutils-0.2.0-py_1\n",
      "  jpeg                        pkgs/main::jpeg-9b-h024ee3a_2 --> conda-forge::jpeg-9c-h14c3975_1001\n",
      "  jupyter_client     pkgs/main/noarch::jupyter_client-5.3.~ --> conda-forge/linux-64::jupyter_client-5.3.3-py37_1\n",
      "  jupyterlab_server  pkgs/main::jupyterlab_server-1.0.0-py~ --> conda-forge::jupyterlab_server-1.0.6-py_0\n",
      "  libffi                 pkgs/main::libffi-3.2.1-hd88cf55_4 --> conda-forge::libffi-3.2.1-he1b5a44_1006\n",
      "  libsodium          pkgs/main::libsodium-1.0.16-h1bed415_0 --> conda-forge::libsodium-1.0.17-h516909a_0\n",
      "  libuuid               pkgs/main::libuuid-1.0.3-h1bed415_2 --> conda-forge::libuuid-2.32.1-h14c3975_1000\n",
      "  libxcb                  pkgs/main::libxcb-1.13-h1bed415_1 --> conda-forge::libxcb-1.13-h14c3975_1002\n",
      "  libxml2               pkgs/main::libxml2-2.9.9-hea5a465_1 --> conda-forge::libxml2-2.9.9-hee79883_5\n",
      "  matplotlib         pkgs/main::matplotlib-3.1.1-py37h5429~ --> conda-forge::matplotlib-3.1.1-py37_1\n",
      "  mistune            pkgs/main::mistune-0.8.4-py37h7b6447c~ --> conda-forge::mistune-0.8.4-py37h14c3975_1000\n",
      "  mkl_fft            pkgs/main::mkl_fft-1.0.14-py37ha843d7~ --> conda-forge::mkl_fft-1.0.14-py37h516909a_1\n",
      "  mkl_random         pkgs/main::mkl_random-1.0.2-py37hd81d~ --> conda-forge::mkl_random-1.1.0-py37hb3f55d8_0\n",
      "  nbconvert          pkgs/main/noarch::nbconvert-5.5.0-py_0 --> conda-forge/linux-64::nbconvert-5.6.0-py37_1\n",
      "  nbformat           pkgs/main/linux-64::nbformat-4.4.0-py~ --> conda-forge/noarch::nbformat-4.4.0-py_1\n",
      "  ncurses                 pkgs/main::ncurses-6.1-he6710b0_1 --> conda-forge::ncurses-6.1-hf484d3e_1002\n",
      "  pandoc                        pkgs/main::pandoc-2.2.3.2-0 --> conda-forge::pandoc-2.7.3-0\n",
      "  pickleshare           pkgs/main::pickleshare-0.7.5-py37_0 --> conda-forge::pickleshare-0.7.5-py37_1000\n",
      "  ptyprocess         pkgs/main/linux-64::ptyprocess-0.6.0-~ --> conda-forge/noarch::ptyprocess-0.6.0-py_1001\n",
      "  pyqt                 pkgs/main::pyqt-5.9.2-py37h05f1152_2 --> conda-forge::pyqt-5.9.2-py37hcca6a23_4\n",
      "  pyrsistent         pkgs/main::pyrsistent-0.14.11-py37h7b~ --> conda-forge::pyrsistent-0.15.4-py37h516909a_0\n",
      "  qt                         pkgs/main::qt-5.9.7-h5867ecd_1 --> conda-forge::qt-5.9.7-h0c104cb_3\n",
      "  readline               pkgs/main::readline-7.0-h7b6447c_5 --> conda-forge::readline-7.0-hf8c457e_1001\n",
      "  setuptools            pkgs/main::setuptools-41.0.1-py37_0 --> conda-forge::setuptools-41.2.0-py37_0\n",
      "  sip                  pkgs/main::sip-4.19.8-py37hf484d3e_0 --> conda-forge::sip-4.19.8-py37hf484d3e_1000\n",
      "  six                          pkgs/main::six-1.12.0-py37_0 --> conda-forge::six-1.12.0-py37_1000\n",
      "  testpath           pkgs/main/linux-64::testpath-0.4.2-py~ --> conda-forge/noarch::testpath-0.4.2-py_1001\n",
      "  tk                         pkgs/main::tk-8.6.8-hbc83047_0 --> conda-forge::tk-8.6.9-hed695b0_1003\n",
      "  traitlets               pkgs/main::traitlets-4.3.2-py37_0 --> conda-forge::traitlets-4.3.2-py37_1000\n",
      "  wcwidth            pkgs/main/linux-64::wcwidth-0.1.7-py3~ --> conda-forge/noarch::wcwidth-0.1.7-py_1\n",
      "  wheel                      pkgs/main::wheel-0.33.4-py37_0 --> conda-forge::wheel-0.33.6-py37_0\n",
      "  xz                         pkgs/main::xz-5.2.4-h14c3975_4 --> conda-forge::xz-5.2.4-h14c3975_1001\n",
      "  zeromq                 pkgs/main::zeromq-4.3.1-he6710b0_3 --> conda-forge::zeromq-4.3.2-he1b5a44_2\n",
      "  zlib                    pkgs/main::zlib-1.2.11-h7b6447c_3 --> conda-forge::zlib-1.2.11-h516909a_1006\n",
      "\n",
      "The following packages will be SUPERSEDED by a higher-priority channel:\n",
      "\n",
      "  attrs              pkgs/main/linux-64::attrs-19.1.0-py37~ --> conda-forge/noarch::attrs-19.1.0-py_0\n",
      "  backcall           pkgs/main/linux-64::backcall-0.1.0-py~ --> conda-forge/noarch::backcall-0.1.0-py_0\n",
      "  bleach             pkgs/main/linux-64::bleach-3.1.0-py37~ --> conda-forge/noarch::bleach-3.1.0-py_0\n",
      "  dbus                    pkgs/main::dbus-1.13.6-h746ee38_0 --> conda-forge::dbus-1.13.6-he372182_0\n",
      "  decorator          pkgs/main/linux-64::decorator-4.4.0-p~ --> conda-forge/noarch::decorator-4.4.0-py_0\n",
      "  defusedxml               pkgs/main::defusedxml-0.6.0-py_0 --> conda-forge::defusedxml-0.5.0-py_1\n",
      "  expat                   pkgs/main::expat-2.2.6-he6710b0_0 --> conda-forge::expat-2.2.5-he1b5a44_1003\n",
      "  ipykernel          pkgs/main::ipykernel-5.1.2-py37h39e3c~ --> conda-forge::ipykernel-5.1.2-py37h5ca1d4c_0\n",
      "  ipython            pkgs/main::ipython-7.8.0-py37h39e3cac~ --> conda-forge::ipython-7.8.0-py37h5ca1d4c_0\n",
      "  jedi                                            pkgs/main --> conda-forge\n",
      "  jinja2             pkgs/main/linux-64::jinja2-2.10.1-py3~ --> conda-forge/noarch::jinja2-2.10.1-py_0\n",
      "  json5                                           pkgs/main --> conda-forge\n",
      "  jsonschema                                      pkgs/main --> conda-forge\n",
      "  jupyter_core           pkgs/main::jupyter_core-4.5.0-py_0 --> conda-forge::jupyter_core-4.4.0-py_0\n",
      "  kiwisolver         pkgs/main::kiwisolver-1.1.0-py37he671~ --> conda-forge::kiwisolver-1.1.0-py37hc9558a2_0\n",
      "  libpng                pkgs/main::libpng-1.6.37-hbc83047_0 --> conda-forge::libpng-1.6.37-hed695b0_0\n",
      "  markupsafe         pkgs/main::markupsafe-1.1.1-py37h7b64~ --> conda-forge::markupsafe-1.1.1-py37h14c3975_0\n",
      "  mkl-service        pkgs/main::mkl-service-2.3.0-py37he90~ --> conda-forge::mkl-service-2.3.0-py37h516909a_0\n",
      "  notebook                                        pkgs/main --> conda-forge\n",
      "  pandocfilters      pkgs/main/linux-64::pandocfilters-1.4~ --> conda-forge/noarch::pandocfilters-1.4.2-py_1\n",
      "  parso                                           pkgs/main --> conda-forge\n",
      "  patsy              pkgs/main/linux-64::patsy-0.5.1-py37_0 --> conda-forge/noarch::patsy-0.5.1-py_0\n",
      "  pcre                      pkgs/main::pcre-8.43-he6710b0_0 --> conda-forge::pcre-8.41-hf484d3e_1003\n",
      "  pexpect                                         pkgs/main --> conda-forge\n",
      "  prometheus_client                               pkgs/main --> conda-forge\n",
      "  prompt_toolkit     pkgs/main/linux-64::prompt_toolkit-2.~ --> conda-forge/noarch::prompt_toolkit-2.0.9-py_0\n",
      "  pygments                                        pkgs/main --> conda-forge\n",
      "  pyparsing                                       pkgs/main --> conda-forge\n",
      "  python-dateutil    pkgs/main/linux-64::python-dateutil-2~ --> conda-forge/noarch::python-dateutil-2.8.0-py_0\n",
      "  pytz                                            pkgs/main --> conda-forge\n",
      "  pyzmq              pkgs/main::pyzmq-18.1.0-py37he6710b0_0 --> conda-forge::pyzmq-18.1.0-py37h1768529_0\n",
      "  send2trash         pkgs/main/linux-64::send2trash-1.5.0-~ --> conda-forge/noarch::send2trash-1.5.0-py_0\n",
      "  statsmodels        pkgs/main::statsmodels-0.10.1-py37hdd~ --> conda-forge::statsmodels-0.10.1-py37hc1659b7_0\n",
      "  terminado                                       pkgs/main --> conda-forge\n",
      "  tornado            pkgs/main::tornado-6.0.3-py37h7b6447c~ --> conda-forge::tornado-6.0.3-py37h516909a_0\n",
      "  webencodings       pkgs/main/linux-64::webencodings-0.5.~ --> conda-forge/noarch::webencodings-0.5.1-py_1\n",
      "\n",
      "\n",
      "Proceed ([y]/n)? "
     ]
    }
   ],
   "source": [
    "!conda uninstall ipywidgets"
   ]
  },
  {
   "cell_type": "code",
   "execution_count": 5,
   "metadata": {},
   "outputs": [
    {
     "data": {
      "application/vnd.jupyter.widget-view+json": {
       "model_id": "0119b326bd8d4323baf76493a8679197",
       "version_major": 2,
       "version_minor": 0
      },
      "text/html": [
       "<p>Failed to display Jupyter Widget of type <code>Map</code>.</p>\n",
       "<p>\n",
       "  If you're reading this message in Jupyter Notebook or JupyterLab, it may mean\n",
       "  that the widgets JavaScript is still loading. If this message persists, it\n",
       "  likely means that the widgets JavaScript library is either not installed or\n",
       "  not enabled. See the <a href=\"https://ipywidgets.readthedocs.io/en/stable/user_install.html\">Jupyter\n",
       "  Widgets Documentation</a> for setup instructions.\n",
       "</p>\n",
       "<p>\n",
       "  If you're reading this message in another notebook frontend (for example, a static\n",
       "  rendering on GitHub or <a href=\"https://nbviewer.jupyter.org/\">NBViewer</a>),\n",
       "  it may mean that your frontend doesn't currently support widgets.\n",
       "</p>\n"
      ],
      "text/plain": [
       "Map(basemap={'url': 'https://{s}.tile.openstreetmap.org/{z}/{x}/{y}.png', 'max_zoom': 19, 'attribution': 'Map data (c) <a href=\"https://openstreetmap.org\">OpenStreetMap</a> contributors'}, center=[52.204793, 360.121558], controls=(ZoomControl(options=['position', 'zoom_in_text', 'zoom_in_title', 'zoom_out_text', 'zoom_out_title']), AttributionControl(options=['position', 'prefix'], position='bottomright')), default_style=MapStyle(), dragging_style=MapStyle(cursor='move'), layers=(TileLayer(base=True, max_zoom=19, min_zoom=1, options=['attribution', 'detect_retina', 'max_native_zoom', 'max_zoom', 'min_native_zoom', 'min_zoom', 'no_wrap', 'tile_size']), Marker(location=[52.204793, 360.121558], options=['alt', 'draggable', 'keyboard', 'rise_offset', 'rise_on_hover', 'rotation_angle', 'rotation_origin', 'title', 'z_index_offset'])), options=['basemap', 'bounce_at_zoom_limits', 'box_zoom', 'center', 'close_popup_on_click', 'double_click_zoom', 'dragging', 'fullscreen', 'inertia', 'inertia_deceleration', 'inertia_max_speed', 'interpolation', 'keyboard', 'keyboard_pan_offset', 'keyboard_zoom_offset', 'max_zoom', 'min_zoom', 'scroll_wheel_zoom', 'tap', 'tap_tolerance', 'touch_zoom', 'world_copy_jump', 'zoom', 'zoom_animation_threshold', 'zoom_start'], style=MapStyle(), zoom=15)"
      ]
     },
     "metadata": {},
     "output_type": "display_data"
    }
   ],
   "source": [
    "from ipyleaflet import Map, Marker\n",
    "\n",
    "center = (52.204793, 360.121558)\n",
    "\n",
    "m = Map(center=center, zoom=15)\n",
    "\n",
    "marker = Marker(location=center, draggable=True)\n",
    "m.add_layer(marker);\n",
    "\n",
    "display(m)\n"
   ]
  },
  {
   "cell_type": "code",
   "execution_count": null,
   "metadata": {},
   "outputs": [],
   "source": []
  }
 ],
 "metadata": {
  "kernelspec": {
   "display_name": "Python 3",
   "language": "python",
   "name": "python3"
  },
  "language_info": {
   "codemirror_mode": {
    "name": "ipython",
    "version": 3
   },
   "file_extension": ".py",
   "mimetype": "text/x-python",
   "name": "python",
   "nbconvert_exporter": "python",
   "pygments_lexer": "ipython3",
   "version": "3.7.3"
  }
 },
 "nbformat": 4,
 "nbformat_minor": 4
}
